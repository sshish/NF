{
  "nbformat": 4,
  "nbformat_minor": 0,
  "metadata": {
    "colab": {
      "name": "Copy of realNVP.ipynb",
      "version": "0.3.2",
      "provenance": [],
      "collapsed_sections": []
    },
    "kernelspec": {
      "name": "python3",
      "display_name": "Python 3"
    },
    "accelerator": "GPU"
  },
  "cells": [
    {
      "cell_type": "code",
      "metadata": {
        "id": "0D34fxkr0shR",
        "colab_type": "code",
        "outputId": "143cb077-2cb9-48d6-cafb-ca67aca4773f",
        "colab": {
          "base_uri": "https://localhost:8080/",
          "height": 54
        }
      },
      "source": [
        "from google.colab import drive\n",
        "drive.mount('/content/gdrive')\n",
        "import sys\n",
        "sys.path.append('/content/gdrive/My Drive/colab/NF')"
      ],
      "execution_count": 2,
      "outputs": [
        {
          "output_type": "stream",
          "text": [
            "Drive already mounted at /content/gdrive; to attempt to forcibly remount, call drive.mount(\"/content/gdrive\", force_remount=True).\n"
          ],
          "name": "stdout"
        }
      ]
    },
    {
      "cell_type": "code",
      "metadata": {
        "id": "FfSC-_Kd3inm",
        "colab_type": "code",
        "colab": {
          "base_uri": "https://localhost:8080/",
          "height": 275
        },
        "outputId": "2df0919e-0f1d-452d-fbd0-56b13593f627"
      },
      "source": [
        "!pip install torch --upgrade"
      ],
      "execution_count": 6,
      "outputs": [
        {
          "output_type": "stream",
          "text": [
            "Collecting torch\n",
            "\u001b[?25l  Downloading https://files.pythonhosted.org/packages/30/57/d5cceb0799c06733eefce80c395459f28970ebb9e896846ce96ab579a3f1/torch-1.2.0-cp36-cp36m-manylinux1_x86_64.whl (748.8MB)\n",
            "\u001b[K     |████████████████████████████████| 748.9MB 19kB/s \n",
            "\u001b[?25hRequirement already satisfied, skipping upgrade: numpy in /usr/local/lib/python3.6/dist-packages (from torch) (1.16.4)\n",
            "Installing collected packages: torch\n",
            "  Found existing installation: torch 1.1.0\n",
            "    Uninstalling torch-1.1.0:\n",
            "      Successfully uninstalled torch-1.1.0\n",
            "Successfully installed torch-1.2.0\n"
          ],
          "name": "stdout"
        },
        {
          "output_type": "display_data",
          "data": {
            "application/vnd.colab-display-data+json": {
              "pip_warning": {
                "packages": [
                  "torch"
                ]
              }
            }
          },
          "metadata": {
            "tags": []
          }
        }
      ]
    },
    {
      "cell_type": "code",
      "metadata": {
        "colab_type": "code",
        "outputId": "0ef2c93a-07a7-40b5-cd8a-5c1e1e318e76",
        "id": "nH5yuzMevI7G",
        "colab": {
          "base_uri": "https://localhost:8080/",
          "height": 799
        }
      },
      "source": [
        "#Define the model.\n",
        "import torch\n",
        "\n",
        "import NF #module for normalizing flows\n",
        "import BAM #module for blockwise autoregressive monotonic transformations\n",
        "\n",
        "mylayers = [BAM.LinearWeightNorm([1,1], [10,10]), BAM.Tanh([10,10]),\n",
        "            BAM.LinearWeightNorm([10,10], [10,10]), BAM.Tanh([10,10]),\n",
        "            BAM.LinearWeightNorm([10,10], [10,10]), BAM.Tanh([10,10]),\n",
        "            BAM.LinearWeightNorm([10,10], [10,10]), BAM.Tanh([10,10]),\n",
        "            BAM.LinearWeightNorm([10,10], [1,1]), BAM.Gate([1,1])\n",
        "           ]\n",
        "\n",
        "mystack = BAM.Stack(*mylayers)\n",
        "\n",
        "mycat = BAM.Cat(mystack, BAM.Gate([1,1]))\n",
        "\n",
        "mysum = BAM.Stack(mycat, BAM.Sum([2,2]))\n",
        "\n",
        "mynet = mysum.NF()\n",
        "\n",
        "mynet.bisection_minimum = torch.empty(2).fill_(-5)\n",
        "mynet.bisection_maximum = torch.empty(2).fill_(5)\n",
        "mynet.bisection_max_iterations = 12\n",
        "\n",
        "mylayers = [BAM.LinearWeightNorm([1,1], [10,10]), BAM.Tanh([10,10]),\n",
        "            BAM.LinearWeightNorm([10,10], [10,10]), BAM.Tanh([10,10]),\n",
        "            BAM.LinearWeightNorm([10,10], [10,10]), BAM.Tanh([10,10]),\n",
        "            BAM.LinearWeightNorm([10,10], [10,10]), BAM.Tanh([10,10]),\n",
        "            BAM.LinearWeightNorm([10,10], [1,1]), BAM.Gate([1,1])\n",
        "           ]\n",
        "\n",
        "mystack = BAM.Stack(*mylayers)\n",
        "\n",
        "mycat = BAM.Cat(mystack, BAM.Gate([1,1]))\n",
        "\n",
        "mysum = BAM.Stack(mycat, BAM.Sum([2,2]))\n",
        "\n",
        "mynet2 = mysum.NF()\n",
        "\n",
        "mynet = NF.Stack(NF.Rotation(0,1), NF.Tanh(), mynet, NF.Rotation(0,1), NF.Tanh(), mynet2)\n",
        "\n",
        "#I put NF.Tanh before each of the BAM.Stacks to make sure the BAM modules receive\n",
        "# normailzed input so bisection can be initialized with a known range of (-1,+1).\n",
        "# Alternatively, I can change mynet.bisection_minimum and maximum to large enough values.\n",
        "\n",
        "#NF.Rotation modules can e.g. be replaced with NF.Permutation.\n",
        "\n",
        "mynet"
      ],
      "execution_count": 4,
      "outputs": [
        {
          "output_type": "execute_result",
          "data": {
            "text/plain": [
              "Stack(\n",
              "  (0): Rotation()\n",
              "  (1): Tanh()\n",
              "  (2): ToNF(\n",
              "    (_net): Stack(\n",
              "      (0): Cat(\n",
              "        (0): Stack(\n",
              "          (0): LinearWeightNorm()\n",
              "          (1): Tanh()\n",
              "          (2): LinearWeightNorm()\n",
              "          (3): Tanh()\n",
              "          (4): LinearWeightNorm()\n",
              "          (5): Tanh()\n",
              "          (6): LinearWeightNorm()\n",
              "          (7): Tanh()\n",
              "          (8): LinearWeightNorm()\n",
              "          (9): Gate()\n",
              "        )\n",
              "        (1): Gate()\n",
              "      )\n",
              "      (1): Sum()\n",
              "    )\n",
              "  )\n",
              "  (3): Rotation()\n",
              "  (4): Tanh()\n",
              "  (5): ToNF(\n",
              "    (_net): Stack(\n",
              "      (0): Cat(\n",
              "        (0): Stack(\n",
              "          (0): LinearWeightNorm()\n",
              "          (1): Tanh()\n",
              "          (2): LinearWeightNorm()\n",
              "          (3): Tanh()\n",
              "          (4): LinearWeightNorm()\n",
              "          (5): Tanh()\n",
              "          (6): LinearWeightNorm()\n",
              "          (7): Tanh()\n",
              "          (8): LinearWeightNorm()\n",
              "          (9): Gate()\n",
              "        )\n",
              "        (1): Gate()\n",
              "      )\n",
              "      (1): Sum()\n",
              "    )\n",
              "  )\n",
              ")"
            ]
          },
          "metadata": {
            "tags": []
          },
          "execution_count": 4
        }
      ]
    },
    {
      "cell_type": "code",
      "metadata": {
        "id": "9-Qetl29ElIv",
        "colab_type": "code",
        "colab": {
          "base_uri": "https://localhost:8080/",
          "height": 357
        },
        "outputId": "7d97433f-3516-403d-9036-c988a4ea0f55"
      },
      "source": [
        "#Train the model on the \"moons\" dataset from keras.\n",
        "device = torch.device(\"cuda\")\n",
        "prior = torch.distributions.MultivariateNormal(torch.zeros(2).to(device), torch.eye(2).to(device))\n",
        "mygen = NF.ToGenerator(mynet, prior).to(device)\n",
        "optimizer = torch.optim.Adam(mygen.parameters())\n",
        "batches = 10000\n",
        "batchsize = 100\n",
        "\n",
        "import sklearn.datasets\n",
        "import numpy\n",
        "\n",
        "for t in range(batches):\n",
        "  noisy_moons = torch.from_numpy(sklearn.datasets.make_moons(n_samples=batchsize, noise=0.05)[0].astype(numpy.float32)).to(device)\n",
        "  loss = mygen.crossentropy_loss(noisy_moons)\n",
        "  optimizer.zero_grad()\n",
        "  loss.backward()\n",
        "  if (t%500 == 0):\n",
        "    print(t, loss.item())\n",
        "  optimizer.step()"
      ],
      "execution_count": 5,
      "outputs": [
        {
          "output_type": "stream",
          "text": [
            "0 19.224088668823242\n",
            "500 3.494838237762451\n",
            "1000 2.212899684906006\n",
            "1500 1.6343508958816528\n",
            "2000 1.266158938407898\n",
            "2500 1.1572132110595703\n",
            "3000 1.0011813640594482\n",
            "3500 0.8813275098800659\n",
            "4000 0.9920436143875122\n",
            "4500 0.8582861423492432\n",
            "5000 0.6817704439163208\n",
            "5500 0.6903846859931946\n",
            "6000 0.5744314193725586\n",
            "6500 0.5384166240692139\n",
            "7000 0.5635965466499329\n",
            "7500 0.48404791951179504\n",
            "8000 0.5172460079193115\n",
            "8500 0.5165607333183289\n",
            "9000 0.45049017667770386\n",
            "9500 0.5007658004760742\n"
          ],
          "name": "stdout"
        }
      ]
    },
    {
      "cell_type": "code",
      "metadata": {
        "colab_type": "code",
        "id": "Frr9EF6UvI7Q",
        "outputId": "ea6f598a-2f5d-44b9-9b34-9049a345cd0a",
        "colab": {
          "base_uri": "https://localhost:8080/",
          "height": 286
        }
      },
      "source": [
        "#Generate samples from the learned distribution.\n",
        "\n",
        "import matplotlib.pyplot as plt\n",
        "\n",
        "x = mygen.sample(1000).detach().cpu().numpy()\n",
        "plt.scatter(x[:,0], x[:,1])"
      ],
      "execution_count": 6,
      "outputs": [
        {
          "output_type": "execute_result",
          "data": {
            "text/plain": [
              "<matplotlib.collections.PathCollection at 0x7ff9d00e76d8>"
            ]
          },
          "metadata": {
            "tags": []
          },
          "execution_count": 6
        },
        {
          "output_type": "display_data",
          "data": {
            "image/png": "[encoded data removed]",
            "text/plain": [
              "<Figure size 432x288 with 1 Axes>"
            ]
          },
          "metadata": {
            "tags": []
          }
        }
      ]
    },
    {
      "cell_type": "code",
      "metadata": {
        "id": "7HoFCh4xg2L1",
        "colab_type": "code",
        "colab": {
          "base_uri": "https://localhost:8080/",
          "height": 1000
        },
        "outputId": "0aeeac41-63ad-4686-c36b-e408bd781ec3"
      },
      "source": [
        "#Helper functions for initialization of (stacks of) coupling layers.\n",
        "import torch\n",
        "\n",
        "import NF #module for normalizing flows\n",
        "\n",
        "def create_mask(n, p=0.5):\n",
        "  idx = torch.randperm(n)\n",
        "  mask = torch.where(idx > p * (n - 1), torch.ones_like(idx), torch.zeros_like(idx)).bool()\n",
        "  return mask\n",
        "\n",
        "def create_t(n, h=[256,256]):\n",
        "  net = torch.nn.Linear(n, h[0])\n",
        "  for layer in range(1, len(h)):\n",
        "    net = torch.nn.Sequential(net, torch.nn.LeakyReLU(), torch.nn.Linear(h[layer-1], h[layer]))\n",
        "  net = torch.nn.Sequential(net, torch.nn.LeakyReLU(), torch.nn.Linear(h[-1], n))\n",
        "  return net\n",
        "\n",
        "def create_s(n, h=[256,256]):\n",
        "  net = create_t(n, h)\n",
        "  net = torch.nn.Sequential(net, torch.nn.Tanh())\n",
        "  return net\n",
        "  \n",
        "def create_2cl(n, p=0.5, ht=[256,256], hs=[256,256]):\n",
        "  mask = create_mask(n, p)\n",
        "  t1 = create_t(n, ht)\n",
        "  t2 = create_t(n, ht)\n",
        "  s1 = create_s(n, hs)\n",
        "  s2 = create_s(n, hs)\n",
        "  cl1 = NF.CouplingLayer(s1, t1, mask)\n",
        "  cl2 = NF.CouplingLayer(s2, t2, ~mask)\n",
        "  return NF.Stack(cl1, cl2)\n",
        "\n",
        "def create_flownet(n, d=3, p=None, ht=None, hs=None):\n",
        "  if p is None: p = [0.5] * d\n",
        "  if ht is None: ht = [[256,256]] * d\n",
        "  if hs is None: hs = [[256,256]] * d\n",
        "  assert(len(p) == len(ht) == len(hs) == d)\n",
        "  net = create_2cl(n, p[0], ht[0], hs[0])\n",
        "  for i in range(1, d):\n",
        "    net.add_module(str(i), create_2cl(n, p[i], ht[i], hs[i]))\n",
        "  return net\n",
        "\n",
        "n = 2\n",
        "mynet = create_flownet(n)\n",
        "\n",
        "mynet"
      ],
      "execution_count": 8,
      "outputs": [
        {
          "output_type": "execute_result",
          "data": {
            "text/plain": [
              "Stack(\n",
              "  (0): CouplingLayer(\n",
              "    (_s): Sequential(\n",
              "      (0): Sequential(\n",
              "        (0): Sequential(\n",
              "          (0): Linear(in_features=2, out_features=256, bias=True)\n",
              "          (1): LeakyReLU(negative_slope=0.01)\n",
              "          (2): Linear(in_features=256, out_features=256, bias=True)\n",
              "        )\n",
              "        (1): LeakyReLU(negative_slope=0.01)\n",
              "        (2): Linear(in_features=256, out_features=2, bias=True)\n",
              "      )\n",
              "      (1): Tanh()\n",
              "    )\n",
              "    (_t): Sequential(\n",
              "      (0): Sequential(\n",
              "        (0): Linear(in_features=2, out_features=256, bias=True)\n",
              "        (1): LeakyReLU(negative_slope=0.01)\n",
              "        (2): Linear(in_features=256, out_features=256, bias=True)\n",
              "      )\n",
              "      (1): LeakyReLU(negative_slope=0.01)\n",
              "      (2): Linear(in_features=256, out_features=2, bias=True)\n",
              "    )\n",
              "  )\n",
              "  (1): Stack(\n",
              "    (0): CouplingLayer(\n",
              "      (_s): Sequential(\n",
              "        (0): Sequential(\n",
              "          (0): Sequential(\n",
              "            (0): Linear(in_features=2, out_features=256, bias=True)\n",
              "            (1): LeakyReLU(negative_slope=0.01)\n",
              "            (2): Linear(in_features=256, out_features=256, bias=True)\n",
              "          )\n",
              "          (1): LeakyReLU(negative_slope=0.01)\n",
              "          (2): Linear(in_features=256, out_features=2, bias=True)\n",
              "        )\n",
              "        (1): Tanh()\n",
              "      )\n",
              "      (_t): Sequential(\n",
              "        (0): Sequential(\n",
              "          (0): Linear(in_features=2, out_features=256, bias=True)\n",
              "          (1): LeakyReLU(negative_slope=0.01)\n",
              "          (2): Linear(in_features=256, out_features=256, bias=True)\n",
              "        )\n",
              "        (1): LeakyReLU(negative_slope=0.01)\n",
              "        (2): Linear(in_features=256, out_features=2, bias=True)\n",
              "      )\n",
              "    )\n",
              "    (1): CouplingLayer(\n",
              "      (_s): Sequential(\n",
              "        (0): Sequential(\n",
              "          (0): Sequential(\n",
              "            (0): Linear(in_features=2, out_features=256, bias=True)\n",
              "            (1): LeakyReLU(negative_slope=0.01)\n",
              "            (2): Linear(in_features=256, out_features=256, bias=True)\n",
              "          )\n",
              "          (1): LeakyReLU(negative_slope=0.01)\n",
              "          (2): Linear(in_features=256, out_features=2, bias=True)\n",
              "        )\n",
              "        (1): Tanh()\n",
              "      )\n",
              "      (_t): Sequential(\n",
              "        (0): Sequential(\n",
              "          (0): Linear(in_features=2, out_features=256, bias=True)\n",
              "          (1): LeakyReLU(negative_slope=0.01)\n",
              "          (2): Linear(in_features=256, out_features=256, bias=True)\n",
              "        )\n",
              "        (1): LeakyReLU(negative_slope=0.01)\n",
              "        (2): Linear(in_features=256, out_features=2, bias=True)\n",
              "      )\n",
              "    )\n",
              "  )\n",
              "  (2): Stack(\n",
              "    (0): CouplingLayer(\n",
              "      (_s): Sequential(\n",
              "        (0): Sequential(\n",
              "          (0): Sequential(\n",
              "            (0): Linear(in_features=2, out_features=256, bias=True)\n",
              "            (1): LeakyReLU(negative_slope=0.01)\n",
              "            (2): Linear(in_features=256, out_features=256, bias=True)\n",
              "          )\n",
              "          (1): LeakyReLU(negative_slope=0.01)\n",
              "          (2): Linear(in_features=256, out_features=2, bias=True)\n",
              "        )\n",
              "        (1): Tanh()\n",
              "      )\n",
              "      (_t): Sequential(\n",
              "        (0): Sequential(\n",
              "          (0): Linear(in_features=2, out_features=256, bias=True)\n",
              "          (1): LeakyReLU(negative_slope=0.01)\n",
              "          (2): Linear(in_features=256, out_features=256, bias=True)\n",
              "        )\n",
              "        (1): LeakyReLU(negative_slope=0.01)\n",
              "        (2): Linear(in_features=256, out_features=2, bias=True)\n",
              "      )\n",
              "    )\n",
              "    (1): CouplingLayer(\n",
              "      (_s): Sequential(\n",
              "        (0): Sequential(\n",
              "          (0): Sequential(\n",
              "            (0): Linear(in_features=2, out_features=256, bias=True)\n",
              "            (1): LeakyReLU(negative_slope=0.01)\n",
              "            (2): Linear(in_features=256, out_features=256, bias=True)\n",
              "          )\n",
              "          (1): LeakyReLU(negative_slope=0.01)\n",
              "          (2): Linear(in_features=256, out_features=2, bias=True)\n",
              "        )\n",
              "        (1): Tanh()\n",
              "      )\n",
              "      (_t): Sequential(\n",
              "        (0): Sequential(\n",
              "          (0): Linear(in_features=2, out_features=256, bias=True)\n",
              "          (1): LeakyReLU(negative_slope=0.01)\n",
              "          (2): Linear(in_features=256, out_features=256, bias=True)\n",
              "        )\n",
              "        (1): LeakyReLU(negative_slope=0.01)\n",
              "        (2): Linear(in_features=256, out_features=2, bias=True)\n",
              "      )\n",
              "    )\n",
              "  )\n",
              ")"
            ]
          },
          "metadata": {
            "tags": []
          },
          "execution_count": 8
        }
      ]
    },
    {
      "cell_type": "code",
      "metadata": {
        "id": "Yg3-hjNhg3WS",
        "colab_type": "code",
        "colab": {
          "base_uri": "https://localhost:8080/",
          "height": 357
        },
        "outputId": "74a874eb-17df-4e49-a40d-6657cd73feff"
      },
      "source": [
        "#Train model on the \"moons\" dataset from keras.\n",
        "device = torch.device(\"cuda\")\n",
        "prior = torch.distributions.MultivariateNormal(torch.zeros(n).to(device), torch.eye(n).to(device))\n",
        "mygen = NF.ToGenerator(mynet, prior).to(device)\n",
        "optimizer = torch.optim.Adam(mygen.parameters())\n",
        "batches = 10000\n",
        "batchsize = 100\n",
        "\n",
        "import sklearn.datasets\n",
        "import numpy\n",
        "\n",
        "for t in range(batches):\n",
        "  noisy_moons = torch.from_numpy(sklearn.datasets.make_moons(n_samples=batchsize, noise=0.05)[0].astype(numpy.float32)).to(device)\n",
        "  #we need noise because data distribution needs to be smooth enough for our model to fit\n",
        "  loss = mygen.crossentropy_loss(noisy_moons)\n",
        "  optimizer.zero_grad()\n",
        "  loss.backward()\n",
        "  if (t%500 == 0):\n",
        "    print(t, loss.item())\n",
        "  optimizer.step()"
      ],
      "execution_count": 10,
      "outputs": [
        {
          "output_type": "stream",
          "text": [
            "0 2.363743305206299\n",
            "500 0.5917229056358337\n",
            "1000 0.5992809534072876\n",
            "1500 0.39443302154541016\n",
            "2000 0.4431872069835663\n",
            "2500 0.4139080345630646\n",
            "3000 0.4691740572452545\n",
            "3500 0.38301733136177063\n",
            "4000 0.3988405168056488\n",
            "4500 0.43337079882621765\n",
            "5000 0.3934704065322876\n",
            "5500 0.3132406175136566\n",
            "6000 0.4568648934364319\n",
            "6500 0.6160516142845154\n",
            "7000 0.42857763171195984\n",
            "7500 0.42331838607788086\n",
            "8000 0.8283717632293701\n",
            "8500 0.4506230056285858\n",
            "9000 0.4230959117412567\n",
            "9500 0.5713785290718079\n"
          ],
          "name": "stdout"
        }
      ]
    },
    {
      "cell_type": "code",
      "metadata": {
        "id": "4KSErbKNhDq0",
        "colab_type": "code",
        "colab": {
          "base_uri": "https://localhost:8080/",
          "height": 286
        },
        "outputId": "d30e2349-25d8-4318-99c3-7e357df6745d"
      },
      "source": [
        "#Generate samples from learned distribution.\n",
        "import matplotlib.pyplot as plt\n",
        "\n",
        "x = mygen.sample(1000).detach().cpu().numpy()\n",
        "plt.scatter(x[:,0], x[:,1])"
      ],
      "execution_count": 11,
      "outputs": [
        {
          "output_type": "execute_result",
          "data": {
            "text/plain": [
              "<matplotlib.collections.PathCollection at 0x7ff9d0015978>"
            ]
          },
          "metadata": {
            "tags": []
          },
          "execution_count": 11
        },
        {
          "output_type": "display_data",
          "data": {
            "image/png": "[encoded data removed]",
            "text/plain": [
              "<Figure size 432x288 with 1 Axes>"
            ]
          },
          "metadata": {
            "tags": []
          }
        }
      ]
    },
    {
      "cell_type": "code",
      "metadata": {
        "id": "7NDXq68F9Gkt",
        "colab_type": "code",
        "colab": {}
      },
      "source": [
        ""
      ],
      "execution_count": 0,
      "outputs": []
    }
  ]
}
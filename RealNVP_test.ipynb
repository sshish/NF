{
  "nbformat": 4,
  "nbformat_minor": 0,
  "metadata": {
    "colab": {
      "name": "Copy of realNVP.ipynb",
      "version": "0.3.2",
      "provenance": [],
      "collapsed_sections": []
    },
    "kernelspec": {
      "name": "python3",
      "display_name": "Python 3"
    },
    "accelerator": "GPU"
  },
  "cells": [
    {
      "cell_type": "code",
      "metadata": {
        "id": "7HoFCh4xg2L1",
        "colab_type": "code",
        "colab": {
          "base_uri": "https://localhost:8080/",
          "height": 1000
        },
        "outputId": "0aeeac41-63ad-4686-c36b-e408bd781ec3"
      },
      "source": [
        "#Helper functions for initialization of (stacks of) coupling layers.\n",
        "import torch\n",
        "\n",
        "import NF #module for normalizing flows\n",
        "\n",
        "def create_mask(n, p=0.5):\n",
        "  idx = torch.randperm(n)\n",
        "  mask = torch.where(idx > p * (n - 1), torch.ones_like(idx), torch.zeros_like(idx)).bool()\n",
        "  return mask\n",
        "\n",
        "def create_t(n, h=[256,256]):\n",
        "  net = torch.nn.Linear(n, h[0])\n",
        "  for layer in range(1, len(h)):\n",
        "    net = torch.nn.Sequential(net, torch.nn.LeakyReLU(), torch.nn.Linear(h[layer-1], h[layer]))\n",
        "  net = torch.nn.Sequential(net, torch.nn.LeakyReLU(), torch.nn.Linear(h[-1], n))\n",
        "  return net\n",
        "\n",
        "def create_s(n, h=[256,256]):\n",
        "  net = create_t(n, h)\n",
        "  net = torch.nn.Sequential(net, torch.nn.Tanh())\n",
        "  return net\n",
        "  \n",
        "def create_2cl(n, p=0.5, ht=[256,256], hs=[256,256]):\n",
        "  mask = create_mask(n, p)\n",
        "  t1 = create_t(n, ht)\n",
        "  t2 = create_t(n, ht)\n",
        "  s1 = create_s(n, hs)\n",
        "  s2 = create_s(n, hs)\n",
        "  cl1 = NF.CouplingLayer(s1, t1, mask)\n",
        "  cl2 = NF.CouplingLayer(s2, t2, ~mask)\n",
        "  return NF.Stack(cl1, cl2)\n",
        "\n",
        "def create_flownet(n, d=3, p=None, ht=None, hs=None):\n",
        "  if p is None: p = [0.5] * d\n",
        "  if ht is None: ht = [[256,256]] * d\n",
        "  if hs is None: hs = [[256,256]] * d\n",
        "  assert(len(p) == len(ht) == len(hs) == d)\n",
        "  net = create_2cl(n, p[0], ht[0], hs[0])\n",
        "  for i in range(1, d):\n",
        "    net.add_module(str(i), create_2cl(n, p[i], ht[i], hs[i]))\n",
        "  return net\n",
        "\n",
        "n = 2\n",
        "mynet = create_flownet(n)\n",
        "\n",
        "mynet"
      ],
      "execution_count": 8,
      "outputs": [
        {
          "output_type": "execute_result",
          "data": {
            "text/plain": [
              "Stack(\n",
              "  (0): CouplingLayer(\n",
              "    (_s): Sequential(\n",
              "      (0): Sequential(\n",
              "        (0): Sequential(\n",
              "          (0): Linear(in_features=2, out_features=256, bias=True)\n",
              "          (1): LeakyReLU(negative_slope=0.01)\n",
              "          (2): Linear(in_features=256, out_features=256, bias=True)\n",
              "        )\n",
              "        (1): LeakyReLU(negative_slope=0.01)\n",
              "        (2): Linear(in_features=256, out_features=2, bias=True)\n",
              "      )\n",
              "      (1): Tanh()\n",
              "    )\n",
              "    (_t): Sequential(\n",
              "      (0): Sequential(\n",
              "        (0): Linear(in_features=2, out_features=256, bias=True)\n",
              "        (1): LeakyReLU(negative_slope=0.01)\n",
              "        (2): Linear(in_features=256, out_features=256, bias=True)\n",
              "      )\n",
              "      (1): LeakyReLU(negative_slope=0.01)\n",
              "      (2): Linear(in_features=256, out_features=2, bias=True)\n",
              "    )\n",
              "  )\n",
              "  (1): Stack(\n",
              "    (0): CouplingLayer(\n",
              "      (_s): Sequential(\n",
              "        (0): Sequential(\n",
              "          (0): Sequential(\n",
              "            (0): Linear(in_features=2, out_features=256, bias=True)\n",
              "            (1): LeakyReLU(negative_slope=0.01)\n",
              "            (2): Linear(in_features=256, out_features=256, bias=True)\n",
              "          )\n",
              "          (1): LeakyReLU(negative_slope=0.01)\n",
              "          (2): Linear(in_features=256, out_features=2, bias=True)\n",
              "        )\n",
              "        (1): Tanh()\n",
              "      )\n",
              "      (_t): Sequential(\n",
              "        (0): Sequential(\n",
              "          (0): Linear(in_features=2, out_features=256, bias=True)\n",
              "          (1): LeakyReLU(negative_slope=0.01)\n",
              "          (2): Linear(in_features=256, out_features=256, bias=True)\n",
              "        )\n",
              "        (1): LeakyReLU(negative_slope=0.01)\n",
              "        (2): Linear(in_features=256, out_features=2, bias=True)\n",
              "      )\n",
              "    )\n",
              "    (1): CouplingLayer(\n",
              "      (_s): Sequential(\n",
              "        (0): Sequential(\n",
              "          (0): Sequential(\n",
              "            (0): Linear(in_features=2, out_features=256, bias=True)\n",
              "            (1): LeakyReLU(negative_slope=0.01)\n",
              "            (2): Linear(in_features=256, out_features=256, bias=True)\n",
              "          )\n",
              "          (1): LeakyReLU(negative_slope=0.01)\n",
              "          (2): Linear(in_features=256, out_features=2, bias=True)\n",
              "        )\n",
              "        (1): Tanh()\n",
              "      )\n",
              "      (_t): Sequential(\n",
              "        (0): Sequential(\n",
              "          (0): Linear(in_features=2, out_features=256, bias=True)\n",
              "          (1): LeakyReLU(negative_slope=0.01)\n",
              "          (2): Linear(in_features=256, out_features=256, bias=True)\n",
              "        )\n",
              "        (1): LeakyReLU(negative_slope=0.01)\n",
              "        (2): Linear(in_features=256, out_features=2, bias=True)\n",
              "      )\n",
              "    )\n",
              "  )\n",
              "  (2): Stack(\n",
              "    (0): CouplingLayer(\n",
              "      (_s): Sequential(\n",
              "        (0): Sequential(\n",
              "          (0): Sequential(\n",
              "            (0): Linear(in_features=2, out_features=256, bias=True)\n",
              "            (1): LeakyReLU(negative_slope=0.01)\n",
              "            (2): Linear(in_features=256, out_features=256, bias=True)\n",
              "          )\n",
              "          (1): LeakyReLU(negative_slope=0.01)\n",
              "          (2): Linear(in_features=256, out_features=2, bias=True)\n",
              "        )\n",
              "        (1): Tanh()\n",
              "      )\n",
              "      (_t): Sequential(\n",
              "        (0): Sequential(\n",
              "          (0): Linear(in_features=2, out_features=256, bias=True)\n",
              "          (1): LeakyReLU(negative_slope=0.01)\n",
              "          (2): Linear(in_features=256, out_features=256, bias=True)\n",
              "        )\n",
              "        (1): LeakyReLU(negative_slope=0.01)\n",
              "        (2): Linear(in_features=256, out_features=2, bias=True)\n",
              "      )\n",
              "    )\n",
              "    (1): CouplingLayer(\n",
              "      (_s): Sequential(\n",
              "        (0): Sequential(\n",
              "          (0): Sequential(\n",
              "            (0): Linear(in_features=2, out_features=256, bias=True)\n",
              "            (1): LeakyReLU(negative_slope=0.01)\n",
              "            (2): Linear(in_features=256, out_features=256, bias=True)\n",
              "          )\n",
              "          (1): LeakyReLU(negative_slope=0.01)\n",
              "          (2): Linear(in_features=256, out_features=2, bias=True)\n",
              "        )\n",
              "        (1): Tanh()\n",
              "      )\n",
              "      (_t): Sequential(\n",
              "        (0): Sequential(\n",
              "          (0): Linear(in_features=2, out_features=256, bias=True)\n",
              "          (1): LeakyReLU(negative_slope=0.01)\n",
              "          (2): Linear(in_features=256, out_features=256, bias=True)\n",
              "        )\n",
              "        (1): LeakyReLU(negative_slope=0.01)\n",
              "        (2): Linear(in_features=256, out_features=2, bias=True)\n",
              "      )\n",
              "    )\n",
              "  )\n",
              ")"
            ]
          },
          "metadata": {
            "tags": []
          },
          "execution_count": 8
        }
      ]
    },
    {
      "cell_type": "code",
      "metadata": {
        "id": "Yg3-hjNhg3WS",
        "colab_type": "code",
        "colab": {
          "base_uri": "https://localhost:8080/",
          "height": 357
        },
        "outputId": "74a874eb-17df-4e49-a40d-6657cd73feff"
      },
      "source": [
        "#Train model on the \"moons\" dataset from keras.\n",
        "device = torch.device(\"cuda\")\n",
        "prior = torch.distributions.MultivariateNormal(torch.zeros(n).to(device), torch.eye(n).to(device))\n",
        "mygen = NF.ToGenerator(mynet, prior).to(device)\n",
        "optimizer = torch.optim.Adam(mygen.parameters())\n",
        "batches = 10000\n",
        "batchsize = 100\n",
        "\n",
        "import sklearn.datasets\n",
        "import numpy\n",
        "\n",
        "for t in range(batches):\n",
        "  noisy_moons = torch.from_numpy(sklearn.datasets.make_moons(n_samples=batchsize, noise=0.05)[0].astype(numpy.float32)).to(device)\n",
        "  #we need noise because data distribution needs to be smooth enough for our model to fit\n",
        "  loss = mygen.crossentropy_loss(noisy_moons)\n",
        "  optimizer.zero_grad()\n",
        "  loss.backward()\n",
        "  if (t%500 == 0):\n",
        "    print(t, loss.item())\n",
        "  optimizer.step()"
      ],
      "execution_count": 10,
      "outputs": [
        {
          "output_type": "stream",
          "text": [
            "0 2.363743305206299\n",
            "500 0.5917229056358337\n",
            "1000 0.5992809534072876\n",
            "1500 0.39443302154541016\n",
            "2000 0.4431872069835663\n",
            "2500 0.4139080345630646\n",
            "3000 0.4691740572452545\n",
            "3500 0.38301733136177063\n",
            "4000 0.3988405168056488\n",
            "4500 0.43337079882621765\n",
            "5000 0.3934704065322876\n",
            "5500 0.3132406175136566\n",
            "6000 0.4568648934364319\n",
            "6500 0.6160516142845154\n",
            "7000 0.42857763171195984\n",
            "7500 0.42331838607788086\n",
            "8000 0.8283717632293701\n",
            "8500 0.4506230056285858\n",
            "9000 0.4230959117412567\n",
            "9500 0.5713785290718079\n"
          ],
          "name": "stdout"
        }
      ]
    },
    {
      "cell_type": "code",
      "metadata": {
        "id": "4KSErbKNhDq0",
        "colab_type": "code",
        "colab": {
          "base_uri": "https://localhost:8080/",
          "height": 286
        },
        "outputId": "d30e2349-25d8-4318-99c3-7e357df6745d"
      },
      "source": [
        "#Generate samples from learned distribution.\n",
        "import matplotlib.pyplot as plt\n",
        "\n",
        "x = mygen.sample(1000).detach().cpu().numpy()\n",
        "plt.scatter(x[:,0], x[:,1])"
      ],
      "execution_count": 11,
      "outputs": [
        {
          "output_type": "execute_result",
          "data": {
            "text/plain": [
              "<matplotlib.collections.PathCollection at 0x7ff9d0015978>"
            ]
          },
          "metadata": {
            "tags": []
          },
          "execution_count": 11
        },
        {
          "output_type": "display_data",
          "data": {
            "image/png": "[encoded data removed]",
            "text/plain": [
              "<Figure size 432x288 with 1 Axes>"
            ]
          },
          "metadata": {
            "tags": []
          }
        }
      ]
    },
    {
      "cell_type": "code",
      "metadata": {
        "id": "7NDXq68F9Gkt",
        "colab_type": "code",
        "colab": {}
      },
      "source": [
        ""
      ],
      "execution_count": 0,
      "outputs": []
    }
  ]
}

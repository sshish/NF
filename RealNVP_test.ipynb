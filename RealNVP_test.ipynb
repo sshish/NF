{
  "nbformat": 4,
  "nbformat_minor": 0,
  "metadata": {
    "colab": {
      "name": "NF.ipynb",
      "version": "0.3.2",
      "provenance": [],
      "collapsed_sections": []
    },
    "kernelspec": {
      "name": "python3",
      "display_name": "Python 3"
    },
    "accelerator": "GPU"
  },
  "cells": [
    {
      "cell_type": "code",
      "metadata": {
        "id": "7HoFCh4xg2L1",
        "colab_type": "code",
        "colab": {
          "base_uri": "https://localhost:8080/",
          "height": 1000
        },
        "outputId": "abff0f05-bbc0-49c2-cbea-7f5c81c9571d"
      },
      "source": [
        "#Helper functions for initialization of (stacks of) coupling layers.\n",
        "import torch\n",
        "\n",
        "import NF #module for normalizing flows\n",
        "\n",
        "def create_mask(n, p=0.5):\n",
        "  idx = torch.randperm(n)\n",
        "  mask = torch.where(idx > p * (n - 1), torch.ones_like(idx), torch.zeros_like(idx)).bool()\n",
        "  return mask\n",
        "\n",
        "def create_t(n, h=[256,256]):\n",
        "  net = torch.nn.Linear(n, h[0])\n",
        "  for layer in range(1, len(h)):\n",
        "    net = torch.nn.Sequential(net, torch.nn.LeakyReLU(), torch.nn.Linear(h[layer-1], h[layer]))\n",
        "  net = torch.nn.Sequential(net, torch.nn.LeakyReLU(), torch.nn.Linear(h[-1], n))\n",
        "  return net\n",
        "\n",
        "def create_s(n, h=[256,256]):\n",
        "  net = create_t(n, h)\n",
        "  net = torch.nn.Sequential(net, torch.nn.Tanh())\n",
        "  return net\n",
        "  \n",
        "def create_2cl(n, p=0.5, ht=[256,256], hs=[256,256]):\n",
        "  mask = create_mask(n, p)\n",
        "  t1 = create_t(n, ht)\n",
        "  t2 = create_t(n, ht)\n",
        "  s1 = create_s(n, hs)\n",
        "  s2 = create_s(n, hs)\n",
        "  cl1 = NF.CouplingLayer(s1, t1, mask)\n",
        "  cl2 = NF.CouplingLayer(s2, t2, ~mask)\n",
        "  return NF.Stack(cl1, cl2)\n",
        "\n",
        "def create_flownet(n, d=3, p=None, ht=None, hs=None):\n",
        "  if p is None: p = [0.5] * d\n",
        "  if ht is None: ht = [[256,256]] * d\n",
        "  if hs is None: hs = [[256,256]] * d\n",
        "  assert(len(p) == len(ht) == len(hs) == d)\n",
        "  net = create_2cl(n, p[0], ht[0], hs[0])\n",
        "  for i in range(1, d):\n",
        "    net.add_module(str(i), create_2cl(n, p[i], ht[i], hs[i]))\n",
        "  return net\n",
        "\n",
        "n = 2\n",
        "mynet = create_flownet(n)\n",
        "\n",
        "mynet"
      ],
      "execution_count": 6,
      "outputs": [
        {
          "output_type": "execute_result",
          "data": {
            "text/plain": [
              "NF:Stack(\n",
              "  (0): NF:CouplingLayer(\n",
              "    (_s): Sequential(\n",
              "      (0): Sequential(\n",
              "        (0): Sequential(\n",
              "          (0): Linear(in_features=2, out_features=256, bias=True)\n",
              "          (1): LeakyReLU(negative_slope=0.01)\n",
              "          (2): Linear(in_features=256, out_features=256, bias=True)\n",
              "        )\n",
              "        (1): LeakyReLU(negative_slope=0.01)\n",
              "        (2): Linear(in_features=256, out_features=2, bias=True)\n",
              "      )\n",
              "      (1): Tanh()\n",
              "    )\n",
              "    (_t): Sequential(\n",
              "      (0): Sequential(\n",
              "        (0): Linear(in_features=2, out_features=256, bias=True)\n",
              "        (1): LeakyReLU(negative_slope=0.01)\n",
              "        (2): Linear(in_features=256, out_features=256, bias=True)\n",
              "      )\n",
              "      (1): LeakyReLU(negative_slope=0.01)\n",
              "      (2): Linear(in_features=256, out_features=2, bias=True)\n",
              "    )\n",
              "  )\n",
              "  (1): NF:Stack(\n",
              "    (0): NF:CouplingLayer(\n",
              "      (_s): Sequential(\n",
              "        (0): Sequential(\n",
              "          (0): Sequential(\n",
              "            (0): Linear(in_features=2, out_features=256, bias=True)\n",
              "            (1): LeakyReLU(negative_slope=0.01)\n",
              "            (2): Linear(in_features=256, out_features=256, bias=True)\n",
              "          )\n",
              "          (1): LeakyReLU(negative_slope=0.01)\n",
              "          (2): Linear(in_features=256, out_features=2, bias=True)\n",
              "        )\n",
              "        (1): Tanh()\n",
              "      )\n",
              "      (_t): Sequential(\n",
              "        (0): Sequential(\n",
              "          (0): Linear(in_features=2, out_features=256, bias=True)\n",
              "          (1): LeakyReLU(negative_slope=0.01)\n",
              "          (2): Linear(in_features=256, out_features=256, bias=True)\n",
              "        )\n",
              "        (1): LeakyReLU(negative_slope=0.01)\n",
              "        (2): Linear(in_features=256, out_features=2, bias=True)\n",
              "      )\n",
              "    )\n",
              "    (1): NF:CouplingLayer(\n",
              "      (_s): Sequential(\n",
              "        (0): Sequential(\n",
              "          (0): Sequential(\n",
              "            (0): Linear(in_features=2, out_features=256, bias=True)\n",
              "            (1): LeakyReLU(negative_slope=0.01)\n",
              "            (2): Linear(in_features=256, out_features=256, bias=True)\n",
              "          )\n",
              "          (1): LeakyReLU(negative_slope=0.01)\n",
              "          (2): Linear(in_features=256, out_features=2, bias=True)\n",
              "        )\n",
              "        (1): Tanh()\n",
              "      )\n",
              "      (_t): Sequential(\n",
              "        (0): Sequential(\n",
              "          (0): Linear(in_features=2, out_features=256, bias=True)\n",
              "          (1): LeakyReLU(negative_slope=0.01)\n",
              "          (2): Linear(in_features=256, out_features=256, bias=True)\n",
              "        )\n",
              "        (1): LeakyReLU(negative_slope=0.01)\n",
              "        (2): Linear(in_features=256, out_features=2, bias=True)\n",
              "      )\n",
              "    )\n",
              "  )\n",
              "  (2): NF:Stack(\n",
              "    (0): NF:CouplingLayer(\n",
              "      (_s): Sequential(\n",
              "        (0): Sequential(\n",
              "          (0): Sequential(\n",
              "            (0): Linear(in_features=2, out_features=256, bias=True)\n",
              "            (1): LeakyReLU(negative_slope=0.01)\n",
              "            (2): Linear(in_features=256, out_features=256, bias=True)\n",
              "          )\n",
              "          (1): LeakyReLU(negative_slope=0.01)\n",
              "          (2): Linear(in_features=256, out_features=2, bias=True)\n",
              "        )\n",
              "        (1): Tanh()\n",
              "      )\n",
              "      (_t): Sequential(\n",
              "        (0): Sequential(\n",
              "          (0): Linear(in_features=2, out_features=256, bias=True)\n",
              "          (1): LeakyReLU(negative_slope=0.01)\n",
              "          (2): Linear(in_features=256, out_features=256, bias=True)\n",
              "        )\n",
              "        (1): LeakyReLU(negative_slope=0.01)\n",
              "        (2): Linear(in_features=256, out_features=2, bias=True)\n",
              "      )\n",
              "    )\n",
              "    (1): NF:CouplingLayer(\n",
              "      (_s): Sequential(\n",
              "        (0): Sequential(\n",
              "          (0): Sequential(\n",
              "            (0): Linear(in_features=2, out_features=256, bias=True)\n",
              "            (1): LeakyReLU(negative_slope=0.01)\n",
              "            (2): Linear(in_features=256, out_features=256, bias=True)\n",
              "          )\n",
              "          (1): LeakyReLU(negative_slope=0.01)\n",
              "          (2): Linear(in_features=256, out_features=2, bias=True)\n",
              "        )\n",
              "        (1): Tanh()\n",
              "      )\n",
              "      (_t): Sequential(\n",
              "        (0): Sequential(\n",
              "          (0): Linear(in_features=2, out_features=256, bias=True)\n",
              "          (1): LeakyReLU(negative_slope=0.01)\n",
              "          (2): Linear(in_features=256, out_features=256, bias=True)\n",
              "        )\n",
              "        (1): LeakyReLU(negative_slope=0.01)\n",
              "        (2): Linear(in_features=256, out_features=2, bias=True)\n",
              "      )\n",
              "    )\n",
              "  )\n",
              ")"
            ]
          },
          "metadata": {
            "tags": []
          },
          "execution_count": 6
        }
      ]
    },
    {
      "cell_type": "code",
      "metadata": {
        "id": "Yg3-hjNhg3WS",
        "colab_type": "code",
        "colab": {
          "base_uri": "https://localhost:8080/",
          "height": 357
        },
        "outputId": "cb0857d0-5f44-4c0b-9c22-3599ecdbf7f2"
      },
      "source": [
        "#Train model on the \"moons\" dataset from scikit-learn.\n",
        "device = torch.device(\"cuda\")\n",
        "prior = torch.distributions.MultivariateNormal(torch.zeros(n).to(device), torch.eye(n).to(device))\n",
        "mygen = NF.ToGenerator(mynet, prior).to(device)\n",
        "optimizer = torch.optim.Adam(mygen.parameters())\n",
        "batches = 10000\n",
        "batchsize = 100\n",
        "\n",
        "import sklearn.datasets\n",
        "import numpy\n",
        "\n",
        "for t in range(batches):\n",
        "  noisy_moons = torch.from_numpy(sklearn.datasets.make_moons(n_samples=batchsize, noise=0.05)[0].astype(numpy.float32)).to(device)\n",
        "  #we need noise because data distribution needs to be smooth enough for our model to fit\n",
        "  loss = mygen.crossentropy_loss(noisy_moons)\n",
        "  optimizer.zero_grad()\n",
        "  loss.backward()\n",
        "  if (t%500 == 0):\n",
        "    print(t, loss.item())\n",
        "  optimizer.step()"
      ],
      "execution_count": 7,
      "outputs": [
        {
          "output_type": "stream",
          "text": [
            "0 2.4339427947998047\n",
            "500 0.896102249622345\n",
            "1000 0.7639908194541931\n",
            "1500 0.8175146579742432\n",
            "2000 0.6856548190116882\n",
            "2500 0.7319701910018921\n",
            "3000 0.5654301047325134\n",
            "3500 0.5522643327713013\n",
            "4000 0.5686569213867188\n",
            "4500 0.6733044385910034\n",
            "5000 0.6473531723022461\n",
            "5500 0.7102291584014893\n",
            "6000 0.7783800363540649\n",
            "6500 0.6996433138847351\n",
            "7000 0.6084856390953064\n",
            "7500 0.804218590259552\n",
            "8000 0.7189302444458008\n",
            "8500 1.0684806108474731\n",
            "9000 0.7576208114624023\n",
            "9500 0.6563704609870911\n"
          ],
          "name": "stdout"
        }
      ]
    },
    {
      "cell_type": "code",
      "metadata": {
        "id": "4KSErbKNhDq0",
        "colab_type": "code",
        "colab": {
          "base_uri": "https://localhost:8080/",
          "height": 286
        },
        "outputId": "8735919c-b466-4bbe-e29f-e240543a919e"
      },
      "source": [
        "#Generate samples from learned distribution.\n",
        "import matplotlib.pyplot as plt\n",
        "\n",
        "x = mygen.sample(1000).detach().cpu().numpy()\n",
        "plt.scatter(x[:,0], x[:,1])"
      ],
      "execution_count": 9,
      "outputs": [
        {
          "output_type": "execute_result",
          "data": {
            "text/plain": [
              "<matplotlib.collections.PathCollection at 0x7f383b1dc748>"
            ]
          },
          "metadata": {
            "tags": []
          },
          "execution_count": 9
        },
        {
          "output_type": "display_data",
          "data": {
            "image/png": "[encoded data removed]",
            "text/plain": [
              "<Figure size 432x288 with 1 Axes>"
            ]
          },
          "metadata": {
            "tags": []
          }
        }
      ]
    }
  ]
}

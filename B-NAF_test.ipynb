{
 "cells": [
  {
   "cell_type": "code",
   "execution_count": 1,
   "metadata": {
    "colab": {
     "base_uri": "https://localhost:8080/",
     "height": 34
    },
    "colab_type": "code",
    "id": "0D34fxkr0shR",
    "outputId": "807797cb-54eb-4008-d3d3-5107582ee2ce"
   },
   "outputs": [
    {
     "name": "stdout",
     "output_type": "stream",
     "text": [
      "Mounted at /content/gdrive\n"
     ]
    }
   ],
   "source": [
    "from google.colab import drive\n",
    "drive.mount('/content/gdrive', force_remount=True)\n",
    "import sys\n",
    "sys.path.append('/content/gdrive/My Drive/colab/NF')"
   ]
  },
  {
   "cell_type": "code",
   "execution_count": 2,
   "metadata": {
    "colab": {
     "base_uri": "https://localhost:8080/",
     "height": 71
    },
    "colab_type": "code",
    "id": "FfSC-_Kd3inm",
    "outputId": "ba1bd537-647a-43bd-8ccc-4a5c9f174833"
   },
   "outputs": [
    {
     "name": "stdout",
     "output_type": "stream",
     "text": [
      "Requirement already up-to-date: torch in /usr/local/lib/python3.6/dist-packages (1.2.0)\n",
      "Requirement already satisfied, skipping upgrade: numpy in /usr/local/lib/python3.6/dist-packages (from torch) (1.16.5)\n"
     ]
    }
   ],
   "source": [
    "!pip install torch --upgrade"
   ]
  },
  {
   "cell_type": "code",
   "execution_count": 3,
   "metadata": {
    "colab": {
     "base_uri": "https://localhost:8080/",
     "height": 799
    },
    "colab_type": "code",
    "id": "nH5yuzMevI7G",
    "outputId": "a71e1a1d-6af9-4664-cde4-a54c692e1b8d"
   },
   "outputs": [
    {
     "data": {
      "text/plain": [
       "NF:Stack(\n",
       "  (0): NF:Rotation()\n",
       "  (1): NF:Tanh()\n",
       "  (2): NF:FromBAM(\n",
       "    (_net): BAM:Stack [1, 1] -> [1, 1](\n",
       "      (0): BAM:Cat [1, 1] -> [2, 2](\n",
       "        (0): BAM:Stack [1, 1] -> [1, 1](\n",
       "          (0): BAM:LinearWeightNorm [1, 1] -> [10, 10]()\n",
       "          (1): BAM:Tanh [10, 10] -> [10, 10]()\n",
       "          (2): BAM:LinearWeightNorm [10, 10] -> [10, 10]()\n",
       "          (3): BAM:Tanh [10, 10] -> [10, 10]()\n",
       "          (4): BAM:LinearWeightNorm [10, 10] -> [10, 10]()\n",
       "          (5): BAM:Tanh [10, 10] -> [10, 10]()\n",
       "          (6): BAM:LinearWeightNorm [10, 10] -> [10, 10]()\n",
       "          (7): BAM:Tanh [10, 10] -> [10, 10]()\n",
       "          (8): BAM:LinearWeightNorm [10, 10] -> [1, 1]()\n",
       "          (9): BAM:Gate [1, 1] -> [1, 1]()\n",
       "        )\n",
       "        (1): BAM:Gate [1, 1] -> [1, 1]()\n",
       "      )\n",
       "      (1): BAM:Sum [2, 2] -> [1, 1]()\n",
       "    )\n",
       "  )\n",
       "  (3): NF:Rotation()\n",
       "  (4): NF:Tanh()\n",
       "  (5): NF:FromBAM(\n",
       "    (_net): BAM:Stack [1, 1] -> [1, 1](\n",
       "      (0): BAM:Cat [1, 1] -> [2, 2](\n",
       "        (0): BAM:Stack [1, 1] -> [1, 1](\n",
       "          (0): BAM:LinearWeightNorm [1, 1] -> [10, 10]()\n",
       "          (1): BAM:Tanh [10, 10] -> [10, 10]()\n",
       "          (2): BAM:LinearWeightNorm [10, 10] -> [10, 10]()\n",
       "          (3): BAM:Tanh [10, 10] -> [10, 10]()\n",
       "          (4): BAM:LinearWeightNorm [10, 10] -> [10, 10]()\n",
       "          (5): BAM:Tanh [10, 10] -> [10, 10]()\n",
       "          (6): BAM:LinearWeightNorm [10, 10] -> [10, 10]()\n",
       "          (7): BAM:Tanh [10, 10] -> [10, 10]()\n",
       "          (8): BAM:LinearWeightNorm [10, 10] -> [1, 1]()\n",
       "          (9): BAM:Gate [1, 1] -> [1, 1]()\n",
       "        )\n",
       "        (1): BAM:Gate [1, 1] -> [1, 1]()\n",
       "      )\n",
       "      (1): BAM:Sum [2, 2] -> [1, 1]()\n",
       "    )\n",
       "  )\n",
       ")"
      ]
     },
     "execution_count": 3,
     "metadata": {
      "tags": []
     },
     "output_type": "execute_result"
    }
   ],
   "source": [
    "#Define the model.\n",
    "import torch\n",
    "\n",
    "import NF #module for normalizing flows\n",
    "import BAM #module for blockwise autoregressive monotonic transformations\n",
    "\n",
    "mylayers = [BAM.LinearWeightNorm([1,1], [10,10]), BAM.Tanh([10,10]),\n",
    "            BAM.LinearWeightNorm([10,10], [10,10]), BAM.Tanh([10,10]),\n",
    "            BAM.LinearWeightNorm([10,10], [10,10]), BAM.Tanh([10,10]),\n",
    "            BAM.LinearWeightNorm([10,10], [10,10]), BAM.Tanh([10,10]),\n",
    "            BAM.LinearWeightNorm([10,10], [1,1]), BAM.Gate([1,1])\n",
    "           ]\n",
    "\n",
    "mystack = BAM.Stack(*mylayers)\n",
    "\n",
    "mycat = BAM.Cat(mystack, BAM.Gate([1,1]))\n",
    "\n",
    "mysum = BAM.Stack(mycat, BAM.Sum([2,2]))\n",
    "\n",
    "mynet = mysum.NF()\n",
    "\n",
    "mylayers = [BAM.LinearWeightNorm([1,1], [10,10]), BAM.Tanh([10,10]),\n",
    "            BAM.LinearWeightNorm([10,10], [10,10]), BAM.Tanh([10,10]),\n",
    "            BAM.LinearWeightNorm([10,10], [10,10]), BAM.Tanh([10,10]),\n",
    "            BAM.LinearWeightNorm([10,10], [10,10]), BAM.Tanh([10,10]),\n",
    "            BAM.LinearWeightNorm([10,10], [1,1]), BAM.Gate([1,1])\n",
    "           ]\n",
    "\n",
    "mystack = BAM.Stack(*mylayers)\n",
    "\n",
    "mycat = BAM.Cat(mystack, BAM.Gate([1,1]))\n",
    "\n",
    "mysum = BAM.Stack(mycat, BAM.Sum([2,2]))\n",
    "\n",
    "mynet2 = mysum.NF()\n",
    "\n",
    "mynet = NF.Stack(NF.Rotation(0,1), NF.Tanh(), mynet, NF.Rotation(0,1), NF.Tanh(), mynet2)\n",
    "\n",
    "#I put NF.Tanh before each of the BAM.Stacks to make sure the BAM modules receive\n",
    "# normailzed input so bisection can be initialized with a known range of (-1,+1).\n",
    "# Alternatively, I can change mynet.bisection_minimum and maximum to large enough values.\n",
    "\n",
    "#NF.Rotation modules can e.g. be replaced with NF.Permutation.\n",
    "\n",
    "mynet"
   ]
  },
  {
   "cell_type": "code",
   "execution_count": 4,
   "metadata": {
    "colab": {
     "base_uri": "https://localhost:8080/",
     "height": 357
    },
    "colab_type": "code",
    "id": "9-Qetl29ElIv",
    "outputId": "0c3b15f7-1fd2-4dbe-814a-680c9fb2f8e9"
   },
   "outputs": [
    {
     "name": "stdout",
     "output_type": "stream",
     "text": [
      "0 13.04084587097168\n",
      "500 3.218587636947632\n",
      "1000 2.2142059803009033\n",
      "1500 1.515616774559021\n",
      "2000 1.0264484882354736\n",
      "2500 0.94846510887146\n",
      "3000 0.9204378128051758\n",
      "3500 0.7725324630737305\n",
      "4000 0.7748315334320068\n",
      "4500 1.0174421072006226\n",
      "5000 0.8909194469451904\n",
      "5500 0.5401074290275574\n",
      "6000 0.6920161247253418\n",
      "6500 0.5629801154136658\n",
      "7000 0.5827810764312744\n",
      "7500 0.4851115942001343\n",
      "8000 0.5634927749633789\n",
      "8500 0.5129310488700867\n",
      "9000 0.5041109919548035\n",
      "9500 0.6050083637237549\n"
     ]
    }
   ],
   "source": [
    "#Train the model on the \"moons\" dataset from scikit-learn.\n",
    "device = torch.device(\"cuda\")\n",
    "prior = torch.distributions.MultivariateNormal(torch.zeros(2).to(device), torch.eye(2).to(device))\n",
    "mygen = NF.ToGenerator(mynet, prior).to(device)\n",
    "optimizer = torch.optim.Adam(mygen.parameters())\n",
    "batches = 10000\n",
    "batchsize = 100\n",
    "\n",
    "import sklearn.datasets\n",
    "import numpy\n",
    "\n",
    "for t in range(batches):\n",
    "  noisy_moons = torch.from_numpy(sklearn.datasets.make_moons(n_samples=batchsize, noise=0.05)[0].astype(numpy.float32)).to(device)\n",
    "  loss = mygen.crossentropy_loss(noisy_moons)\n",
    "  optimizer.zero_grad()\n",
    "  loss.backward()\n",
    "  if (t%500 == 0):\n",
    "    print(t, loss.item())\n",
    "  optimizer.step()"
   ]
  },
  {
   "cell_type": "code",
   "execution_count": 5,
   "metadata": {
    "colab": {
     "base_uri": "https://localhost:8080/",
     "height": 286
    },
    "colab_type": "code",
    "id": "Frr9EF6UvI7Q",
    "outputId": "179fb561-96fc-4bfc-830a-949c514245f1"
   },
   "outputs": [
    {
     "data": {
      "text/plain": [
       "<matplotlib.collections.PathCollection at 0x7f3850151828>"
      ]
     },
     "execution_count": 5,
     "metadata": {
      "tags": []
     },
     "output_type": "execute_result"
    },
    {
     "data": {
      "image/png": "[encoded data removed]",
      "text/plain": [
       "<Figure size 432x288 with 1 Axes>"
      ]
     },
     "metadata": {
      "tags": []
     },
     "output_type": "display_data"
    }
   ],
   "source": [
    "#Generate samples from the learned distribution.\n",
    "\n",
    "import matplotlib.pyplot as plt\n",
    "\n",
    "x = mygen.sample(1000).detach().cpu().numpy()\n",
    "plt.scatter(x[:,0], x[:,1])"
   ]
  },
  {
   "cell_type": "code",
   "execution_count": 6,
   "metadata": {
    "colab": {
     "base_uri": "https://localhost:8080/",
     "height": 1000
    },
    "colab_type": "code",
    "id": "7HoFCh4xg2L1",
    "outputId": "abff0f05-bbc0-49c2-cbea-7f5c81c9571d"
   },
   "outputs": [
    {
     "data": {
      "text/plain": [
       "NF:Stack(\n",
       "  (0): NF:CouplingLayer(\n",
       "    (_s): Sequential(\n",
       "      (0): Sequential(\n",
       "        (0): Sequential(\n",
       "          (0): Linear(in_features=2, out_features=256, bias=True)\n",
       "          (1): LeakyReLU(negative_slope=0.01)\n",
       "          (2): Linear(in_features=256, out_features=256, bias=True)\n",
       "        )\n",
       "        (1): LeakyReLU(negative_slope=0.01)\n",
       "        (2): Linear(in_features=256, out_features=2, bias=True)\n",
       "      )\n",
       "      (1): Tanh()\n",
       "    )\n",
       "    (_t): Sequential(\n",
       "      (0): Sequential(\n",
       "        (0): Linear(in_features=2, out_features=256, bias=True)\n",
       "        (1): LeakyReLU(negative_slope=0.01)\n",
       "        (2): Linear(in_features=256, out_features=256, bias=True)\n",
       "      )\n",
       "      (1): LeakyReLU(negative_slope=0.01)\n",
       "      (2): Linear(in_features=256, out_features=2, bias=True)\n",
       "    )\n",
       "  )\n",
       "  (1): NF:Stack(\n",
       "    (0): NF:CouplingLayer(\n",
       "      (_s): Sequential(\n",
       "        (0): Sequential(\n",
       "          (0): Sequential(\n",
       "            (0): Linear(in_features=2, out_features=256, bias=True)\n",
       "            (1): LeakyReLU(negative_slope=0.01)\n",
       "            (2): Linear(in_features=256, out_features=256, bias=True)\n",
       "          )\n",
       "          (1): LeakyReLU(negative_slope=0.01)\n",
       "          (2): Linear(in_features=256, out_features=2, bias=True)\n",
       "        )\n",
       "        (1): Tanh()\n",
       "      )\n",
       "      (_t): Sequential(\n",
       "        (0): Sequential(\n",
       "          (0): Linear(in_features=2, out_features=256, bias=True)\n",
       "          (1): LeakyReLU(negative_slope=0.01)\n",
       "          (2): Linear(in_features=256, out_features=256, bias=True)\n",
       "        )\n",
       "        (1): LeakyReLU(negative_slope=0.01)\n",
       "        (2): Linear(in_features=256, out_features=2, bias=True)\n",
       "      )\n",
       "    )\n",
       "    (1): NF:CouplingLayer(\n",
       "      (_s): Sequential(\n",
       "        (0): Sequential(\n",
       "          (0): Sequential(\n",
       "            (0): Linear(in_features=2, out_features=256, bias=True)\n",
       "            (1): LeakyReLU(negative_slope=0.01)\n",
       "            (2): Linear(in_features=256, out_features=256, bias=True)\n",
       "          )\n",
       "          (1): LeakyReLU(negative_slope=0.01)\n",
       "          (2): Linear(in_features=256, out_features=2, bias=True)\n",
       "        )\n",
       "        (1): Tanh()\n",
       "      )\n",
       "      (_t): Sequential(\n",
       "        (0): Sequential(\n",
       "          (0): Linear(in_features=2, out_features=256, bias=True)\n",
       "          (1): LeakyReLU(negative_slope=0.01)\n",
       "          (2): Linear(in_features=256, out_features=256, bias=True)\n",
       "        )\n",
       "        (1): LeakyReLU(negative_slope=0.01)\n",
       "        (2): Linear(in_features=256, out_features=2, bias=True)\n",
       "      )\n",
       "    )\n",
       "  )\n",
       "  (2): NF:Stack(\n",
       "    (0): NF:CouplingLayer(\n",
       "      (_s): Sequential(\n",
       "        (0): Sequential(\n",
       "          (0): Sequential(\n",
       "            (0): Linear(in_features=2, out_features=256, bias=True)\n",
       "            (1): LeakyReLU(negative_slope=0.01)\n",
       "            (2): Linear(in_features=256, out_features=256, bias=True)\n",
       "          )\n",
       "          (1): LeakyReLU(negative_slope=0.01)\n",
       "          (2): Linear(in_features=256, out_features=2, bias=True)\n",
       "        )\n",
       "        (1): Tanh()\n",
       "      )\n",
       "      (_t): Sequential(\n",
       "        (0): Sequential(\n",
       "          (0): Linear(in_features=2, out_features=256, bias=True)\n",
       "          (1): LeakyReLU(negative_slope=0.01)\n",
       "          (2): Linear(in_features=256, out_features=256, bias=True)\n",
       "        )\n",
       "        (1): LeakyReLU(negative_slope=0.01)\n",
       "        (2): Linear(in_features=256, out_features=2, bias=True)\n",
       "      )\n",
       "    )\n",
       "    (1): NF:CouplingLayer(\n",
       "      (_s): Sequential(\n",
       "        (0): Sequential(\n",
       "          (0): Sequential(\n",
       "            (0): Linear(in_features=2, out_features=256, bias=True)\n",
       "            (1): LeakyReLU(negative_slope=0.01)\n",
       "            (2): Linear(in_features=256, out_features=256, bias=True)\n",
       "          )\n",
       "          (1): LeakyReLU(negative_slope=0.01)\n",
       "          (2): Linear(in_features=256, out_features=2, bias=True)\n",
       "        )\n",
       "        (1): Tanh()\n",
       "      )\n",
       "      (_t): Sequential(\n",
       "        (0): Sequential(\n",
       "          (0): Linear(in_features=2, out_features=256, bias=True)\n",
       "          (1): LeakyReLU(negative_slope=0.01)\n",
       "          (2): Linear(in_features=256, out_features=256, bias=True)\n",
       "        )\n",
       "        (1): LeakyReLU(negative_slope=0.01)\n",
       "        (2): Linear(in_features=256, out_features=2, bias=True)\n",
       "      )\n",
       "    )\n",
       "  )\n",
       ")"
      ]
     },
     "execution_count": 6,
     "metadata": {
      "tags": []
     },
     "output_type": "execute_result"
    }
   ],
   "source": [
    "#Helper functions for initialization of (stacks of) coupling layers.\n",
    "import torch\n",
    "\n",
    "import NF #module for normalizing flows\n",
    "\n",
    "def create_mask(n, p=0.5):\n",
    "  idx = torch.randperm(n)\n",
    "  mask = torch.where(idx > p * (n - 1), torch.ones_like(idx), torch.zeros_like(idx)).bool()\n",
    "  return mask\n",
    "\n",
    "def create_t(n, h=[256,256]):\n",
    "  net = torch.nn.Linear(n, h[0])\n",
    "  for layer in range(1, len(h)):\n",
    "    net = torch.nn.Sequential(net, torch.nn.LeakyReLU(), torch.nn.Linear(h[layer-1], h[layer]))\n",
    "  net = torch.nn.Sequential(net, torch.nn.LeakyReLU(), torch.nn.Linear(h[-1], n))\n",
    "  return net\n",
    "\n",
    "def create_s(n, h=[256,256]):\n",
    "  net = create_t(n, h)\n",
    "  net = torch.nn.Sequential(net, torch.nn.Tanh())\n",
    "  return net\n",
    "  \n",
    "def create_2cl(n, p=0.5, ht=[256,256], hs=[256,256]):\n",
    "  mask = create_mask(n, p)\n",
    "  t1 = create_t(n, ht)\n",
    "  t2 = create_t(n, ht)\n",
    "  s1 = create_s(n, hs)\n",
    "  s2 = create_s(n, hs)\n",
    "  cl1 = NF.CouplingLayer(s1, t1, mask)\n",
    "  cl2 = NF.CouplingLayer(s2, t2, ~mask)\n",
    "  return NF.Stack(cl1, cl2)\n",
    "\n",
    "def create_flownet(n, d=3, p=None, ht=None, hs=None):\n",
    "  if p is None: p = [0.5] * d\n",
    "  if ht is None: ht = [[256,256]] * d\n",
    "  if hs is None: hs = [[256,256]] * d\n",
    "  assert(len(p) == len(ht) == len(hs) == d)\n",
    "  net = create_2cl(n, p[0], ht[0], hs[0])\n",
    "  for i in range(1, d):\n",
    "    net.add_module(str(i), create_2cl(n, p[i], ht[i], hs[i]))\n",
    "  return net\n",
    "\n",
    "n = 2\n",
    "mynet = create_flownet(n)\n",
    "\n",
    "mynet"
   ]
  },
  {
   "cell_type": "code",
   "execution_count": 7,
   "metadata": {
    "colab": {
     "base_uri": "https://localhost:8080/",
     "height": 357
    },
    "colab_type": "code",
    "id": "Yg3-hjNhg3WS",
    "outputId": "cb0857d0-5f44-4c0b-9c22-3599ecdbf7f2"
   },
   "outputs": [
    {
     "name": "stdout",
     "output_type": "stream",
     "text": [
      "0 2.4339427947998047\n",
      "500 0.896102249622345\n",
      "1000 0.7639908194541931\n",
      "1500 0.8175146579742432\n",
      "2000 0.6856548190116882\n",
      "2500 0.7319701910018921\n",
      "3000 0.5654301047325134\n",
      "3500 0.5522643327713013\n",
      "4000 0.5686569213867188\n",
      "4500 0.6733044385910034\n",
      "5000 0.6473531723022461\n",
      "5500 0.7102291584014893\n",
      "6000 0.7783800363540649\n",
      "6500 0.6996433138847351\n",
      "7000 0.6084856390953064\n",
      "7500 0.804218590259552\n",
      "8000 0.7189302444458008\n",
      "8500 1.0684806108474731\n",
      "9000 0.7576208114624023\n",
      "9500 0.6563704609870911\n"
     ]
    }
   ],
   "source": [
    "#Train model on the \"moons\" dataset from scikit-learn.\n",
    "device = torch.device(\"cuda\")\n",
    "prior = torch.distributions.MultivariateNormal(torch.zeros(n).to(device), torch.eye(n).to(device))\n",
    "mygen = NF.ToGenerator(mynet, prior).to(device)\n",
    "optimizer = torch.optim.Adam(mygen.parameters())\n",
    "batches = 10000\n",
    "batchsize = 100\n",
    "\n",
    "import sklearn.datasets\n",
    "import numpy\n",
    "\n",
    "for t in range(batches):\n",
    "  noisy_moons = torch.from_numpy(sklearn.datasets.make_moons(n_samples=batchsize, noise=0.05)[0].astype(numpy.float32)).to(device)\n",
    "  #we need noise because data distribution needs to be smooth enough for our model to fit\n",
    "  loss = mygen.crossentropy_loss(noisy_moons)\n",
    "  optimizer.zero_grad()\n",
    "  loss.backward()\n",
    "  if (t%500 == 0):\n",
    "    print(t, loss.item())\n",
    "  optimizer.step()"
   ]
  },
  {
   "cell_type": "code",
   "execution_count": 9,
   "metadata": {
    "colab": {
     "base_uri": "https://localhost:8080/",
     "height": 286
    },
    "colab_type": "code",
    "id": "4KSErbKNhDq0",
    "outputId": "8735919c-b466-4bbe-e29f-e240543a919e"
   },
   "outputs": [
    {
     "data": {
      "text/plain": [
       "<matplotlib.collections.PathCollection at 0x7f383b1dc748>"
      ]
     },
     "execution_count": 9,
     "metadata": {
      "tags": []
     },
     "output_type": "execute_result"
    },
    {
     "data": {
      "image/png": "[encoded data removed]",
      "text/plain": [
       "<Figure size 432x288 with 1 Axes>"
      ]
     },
     "metadata": {
      "tags": []
     },
     "output_type": "display_data"
    }
   ],
   "source": [
    "#Generate samples from learned distribution.\n",
    "import matplotlib.pyplot as plt\n",
    "\n",
    "x = mygen.sample(1000).detach().cpu().numpy()\n",
    "plt.scatter(x[:,0], x[:,1])"
   ]
  },
  {
   "cell_type": "code",
   "execution_count": 0,
   "metadata": {
    "colab": {},
    "colab_type": "code",
    "id": "AEToBy9N9R-C"
   },
   "outputs": [],
   "source": []
  }
 ],
 "metadata": {
  "accelerator": "GPU",
  "colab": {
   "collapsed_sections": [],
   "name": "NF.ipynb",
   "provenance": [],
   "version": "0.3.2"
  },
  "kernelspec": {
   "display_name": "Python 3",
   "language": "python",
   "name": "python3"
  },
  "language_info": {
   "codemirror_mode": {
    "name": "ipython",
    "version": 3
   },
   "file_extension": ".py",
   "mimetype": "text/x-python",
   "name": "python",
   "nbconvert_exporter": "python",
   "pygments_lexer": "ipython3",
   "version": "3.6.8"
  }
 },
 "nbformat": 4,
 "nbformat_minor": 1
}

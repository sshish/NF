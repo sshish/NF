{
  "nbformat": 4,
  "nbformat_minor": 0,
  "metadata": {
    "colab": {
      "name": "NF.ipynb",
      "version": "0.3.2",
      "provenance": [],
      "collapsed_sections": []
    },
    "kernelspec": {
      "name": "python3",
      "display_name": "Python 3"
    },
    "accelerator": "GPU"
  },
  "cells": [
    {
      "cell_type": "code",
      "metadata": {
        "colab_type": "code",
        "outputId": "a71e1a1d-6af9-4664-cde4-a54c692e1b8d",
        "id": "nH5yuzMevI7G",
        "colab": {
          "base_uri": "https://localhost:8080/",
          "height": 799
        }
      },
      "source": [
        "#Define the model.\n",
        "import torch\n",
        "\n",
        "import NF #module for normalizing flows\n",
        "import BAM #module for blockwise autoregressive monotonic transformations\n",
        "\n",
        "mylayers = [BAM.LinearWeightNorm([1,1], [10,10]), BAM.Tanh([10,10]),\n",
        "            BAM.LinearWeightNorm([10,10], [10,10]), BAM.Tanh([10,10]),\n",
        "            BAM.LinearWeightNorm([10,10], [10,10]), BAM.Tanh([10,10]),\n",
        "            BAM.LinearWeightNorm([10,10], [10,10]), BAM.Tanh([10,10]),\n",
        "            BAM.LinearWeightNorm([10,10], [1,1]), BAM.Gate([1,1])\n",
        "           ]\n",
        "\n",
        "mystack = BAM.Stack(*mylayers)\n",
        "\n",
        "mycat = BAM.Cat(mystack, BAM.Gate([1,1]))\n",
        "\n",
        "mysum = BAM.Stack(mycat, BAM.Sum([2,2]))\n",
        "\n",
        "mynet = mysum.NF()\n",
        "\n",
        "mynet.bisection_minimum = torch.empty(2).fill_(-5)\n",
        "mynet.bisection_maximum = torch.empty(2).fill_(5)\n",
        "mynet.bisection_max_iterations = 12\n",
        "\n",
        "mylayers = [BAM.LinearWeightNorm([1,1], [10,10]), BAM.Tanh([10,10]),\n",
        "            BAM.LinearWeightNorm([10,10], [10,10]), BAM.Tanh([10,10]),\n",
        "            BAM.LinearWeightNorm([10,10], [10,10]), BAM.Tanh([10,10]),\n",
        "            BAM.LinearWeightNorm([10,10], [10,10]), BAM.Tanh([10,10]),\n",
        "            BAM.LinearWeightNorm([10,10], [1,1]), BAM.Gate([1,1])\n",
        "           ]\n",
        "\n",
        "mystack = BAM.Stack(*mylayers)\n",
        "\n",
        "mycat = BAM.Cat(mystack, BAM.Gate([1,1]))\n",
        "\n",
        "mysum = BAM.Stack(mycat, BAM.Sum([2,2]))\n",
        "\n",
        "mynet2 = mysum.NF()\n",
        "\n",
        "mynet = NF.Stack(NF.Rotation(0,1), NF.Tanh(), mynet, NF.Rotation(0,1), NF.Tanh(), mynet2)\n",
        "\n",
        "#I put NF.Tanh before each of the BAM.Stacks to make sure the BAM modules receive\n",
        "# normailzed input so bisection can be initialized with a known range of (-1,+1).\n",
        "# Alternatively, I can change mynet.bisection_minimum and maximum to large enough values.\n",
        "\n",
        "#NF.Rotation modules can e.g. be replaced with NF.Permutation.\n",
        "\n",
        "mynet"
      ],
      "execution_count": 3,
      "outputs": [
        {
          "output_type": "execute_result",
          "data": {
            "text/plain": [
              "NF:Stack(\n",
              "  (0): NF:Rotation()\n",
              "  (1): NF:Tanh()\n",
              "  (2): NF:FromBAM(\n",
              "    (_net): BAM:Stack [1, 1] -> [1, 1](\n",
              "      (0): BAM:Cat [1, 1] -> [2, 2](\n",
              "        (0): BAM:Stack [1, 1] -> [1, 1](\n",
              "          (0): BAM:LinearWeightNorm [1, 1] -> [10, 10]()\n",
              "          (1): BAM:Tanh [10, 10] -> [10, 10]()\n",
              "          (2): BAM:LinearWeightNorm [10, 10] -> [10, 10]()\n",
              "          (3): BAM:Tanh [10, 10] -> [10, 10]()\n",
              "          (4): BAM:LinearWeightNorm [10, 10] -> [10, 10]()\n",
              "          (5): BAM:Tanh [10, 10] -> [10, 10]()\n",
              "          (6): BAM:LinearWeightNorm [10, 10] -> [10, 10]()\n",
              "          (7): BAM:Tanh [10, 10] -> [10, 10]()\n",
              "          (8): BAM:LinearWeightNorm [10, 10] -> [1, 1]()\n",
              "          (9): BAM:Gate [1, 1] -> [1, 1]()\n",
              "        )\n",
              "        (1): BAM:Gate [1, 1] -> [1, 1]()\n",
              "      )\n",
              "      (1): BAM:Sum [2, 2] -> [1, 1]()\n",
              "    )\n",
              "  )\n",
              "  (3): NF:Rotation()\n",
              "  (4): NF:Tanh()\n",
              "  (5): NF:FromBAM(\n",
              "    (_net): BAM:Stack [1, 1] -> [1, 1](\n",
              "      (0): BAM:Cat [1, 1] -> [2, 2](\n",
              "        (0): BAM:Stack [1, 1] -> [1, 1](\n",
              "          (0): BAM:LinearWeightNorm [1, 1] -> [10, 10]()\n",
              "          (1): BAM:Tanh [10, 10] -> [10, 10]()\n",
              "          (2): BAM:LinearWeightNorm [10, 10] -> [10, 10]()\n",
              "          (3): BAM:Tanh [10, 10] -> [10, 10]()\n",
              "          (4): BAM:LinearWeightNorm [10, 10] -> [10, 10]()\n",
              "          (5): BAM:Tanh [10, 10] -> [10, 10]()\n",
              "          (6): BAM:LinearWeightNorm [10, 10] -> [10, 10]()\n",
              "          (7): BAM:Tanh [10, 10] -> [10, 10]()\n",
              "          (8): BAM:LinearWeightNorm [10, 10] -> [1, 1]()\n",
              "          (9): BAM:Gate [1, 1] -> [1, 1]()\n",
              "        )\n",
              "        (1): BAM:Gate [1, 1] -> [1, 1]()\n",
              "      )\n",
              "      (1): BAM:Sum [2, 2] -> [1, 1]()\n",
              "    )\n",
              "  )\n",
              ")"
            ]
          },
          "metadata": {
            "tags": []
          },
          "execution_count": 3
        }
      ]
    },
    {
      "cell_type": "code",
      "metadata": {
        "id": "9-Qetl29ElIv",
        "colab_type": "code",
        "outputId": "0c3b15f7-1fd2-4dbe-814a-680c9fb2f8e9",
        "colab": {
          "base_uri": "https://localhost:8080/",
          "height": 357
        }
      },
      "source": [
        "#Train the model on the \"moons\" dataset from scikit-learn.\n",
        "device = torch.device(\"cuda\")\n",
        "prior = torch.distributions.MultivariateNormal(torch.zeros(2).to(device), torch.eye(2).to(device))\n",
        "mygen = NF.ToGenerator(mynet, prior).to(device)\n",
        "optimizer = torch.optim.Adam(mygen.parameters())\n",
        "batches = 10000\n",
        "batchsize = 100\n",
        "\n",
        "import sklearn.datasets\n",
        "import numpy\n",
        "\n",
        "for t in range(batches):\n",
        "  noisy_moons = torch.from_numpy(sklearn.datasets.make_moons(n_samples=batchsize, noise=0.05)[0].astype(numpy.float32)).to(device)\n",
        "  loss = mygen.crossentropy_loss(noisy_moons)\n",
        "  optimizer.zero_grad()\n",
        "  loss.backward()\n",
        "  if (t%500 == 0):\n",
        "    print(t, loss.item())\n",
        "  optimizer.step()"
      ],
      "execution_count": 4,
      "outputs": [
        {
          "output_type": "stream",
          "text": [
            "0 13.04084587097168\n",
            "500 3.218587636947632\n",
            "1000 2.2142059803009033\n",
            "1500 1.515616774559021\n",
            "2000 1.0264484882354736\n",
            "2500 0.94846510887146\n",
            "3000 0.9204378128051758\n",
            "3500 0.7725324630737305\n",
            "4000 0.7748315334320068\n",
            "4500 1.0174421072006226\n",
            "5000 0.8909194469451904\n",
            "5500 0.5401074290275574\n",
            "6000 0.6920161247253418\n",
            "6500 0.5629801154136658\n",
            "7000 0.5827810764312744\n",
            "7500 0.4851115942001343\n",
            "8000 0.5634927749633789\n",
            "8500 0.5129310488700867\n",
            "9000 0.5041109919548035\n",
            "9500 0.6050083637237549\n"
          ],
          "name": "stdout"
        }
      ]
    },
    {
      "cell_type": "code",
      "metadata": {
        "colab_type": "code",
        "id": "Frr9EF6UvI7Q",
        "colab": {
          "base_uri": "https://localhost:8080/",
          "height": 286
        },
        "outputId": "179fb561-96fc-4bfc-830a-949c514245f1"
      },
      "source": [
        "#Generate samples from the learned distribution.\n",
        "\n",
        "import matplotlib.pyplot as plt\n",
        "\n",
        "x = mygen.sample(1000).detach().cpu().numpy()\n",
        "plt.scatter(x[:,0], x[:,1])"
      ],
      "execution_count": 5,
      "outputs": [
        {
          "output_type": "execute_result",
          "data": {
            "text/plain": [
              "<matplotlib.collections.PathCollection at 0x7f3850151828>"
            ]
          },
          "metadata": {
            "tags": []
          },
          "execution_count": 5
        },
        {
          "output_type": "display_data",
          "data": {
            "image/png": "iVBORw0KGgoAAAANSUhEUgAAAYYAAAD8CAYAAABzTgP2AAAABHNCSVQICAgIfAhkiAAAAAlwSFlz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\nRU5ErkJggg==\n",
            "text/plain": [
              "<Figure size 432x288 with 1 Axes>"
            ]
          },
          "metadata": {
            "tags": []
          }
        }
      ]
    },
  ]
}
